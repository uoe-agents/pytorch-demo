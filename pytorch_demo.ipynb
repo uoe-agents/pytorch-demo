{
 "cells": [
  {
   "attachments": {},
   "cell_type": "markdown",
   "metadata": {},
   "source": [
    "# UoE RL Course: Lab - PyTorch Demo\n",
    "\n",
    "In this lab session, we will give you a brief introduction into PyTorch. PyTorch is widely used library for deep learning."
   ]
  },
  {
   "cell_type": "markdown",
   "metadata": {},
   "source": [
    "## PyTorch Basics\n",
    "\n",
    "### Tensors\n",
    "\n",
    "At the heart of PyTorch and similar libraries are tensors. Think of a tensor as an arbitrarily-dimensional matrix. These tensors are used to apply various operations and most objects we apply operations on within PyTorch will be tensors.\n",
    "\n",
    "There are multiple ways of creating tensors."
   ]
  },
  {
   "cell_type": "code",
   "execution_count": 1,
   "metadata": {},
   "outputs": [],
   "source": [
    "# import necessary libraries\n",
    "import torch\n",
    "import torchvision\n",
    "import numpy as np"
   ]
  },
  {
   "cell_type": "code",
   "execution_count": 2,
   "metadata": {},
   "outputs": [],
   "source": [
    "# Create a specific tensor\n",
    "t1 = torch.tensor(\n",
    "    [\n",
    "        [1., -1.],\n",
    "        [1., -1.]\n",
    "    ]\n",
    ")\n",
    "\n",
    "t2 = torch.tensor(np.array(\n",
    "    [\n",
    "        [1, 2, 3],\n",
    "        [4, 5, 6]\n",
    "    ]\n",
    "))"
   ]
  },
  {
   "cell_type": "code",
   "execution_count": 3,
   "metadata": {},
   "outputs": [
    {
     "name": "stdout",
     "output_type": "stream",
     "text": [
      "torch.Size([2, 2])\n",
      "tensor([[ 1., -1.],\n",
      "        [ 1., -1.]])\n"
     ]
    }
   ],
   "source": [
    "# shapes of tensors show the dimensionality:\n",
    "print(t1.shape)\n",
    "print(t1)"
   ]
  },
  {
   "cell_type": "code",
   "execution_count": 4,
   "metadata": {},
   "outputs": [
    {
     "name": "stdout",
     "output_type": "stream",
     "text": [
      "torch.Size([2, 3])\n",
      "tensor([[1, 2, 3],\n",
      "        [4, 5, 6]])\n"
     ]
    }
   ],
   "source": [
    "print(t2.shape)\n",
    "print(t2)"
   ]
  },
  {
   "cell_type": "code",
   "execution_count": 5,
   "metadata": {
    "scrolled": true
   },
   "outputs": [
    {
     "name": "stdout",
     "output_type": "stream",
     "text": [
      "torch.Size([2, 3, 2])\n",
      "tensor([[[0., 0.],\n",
      "         [0., 0.],\n",
      "         [0., 0.]],\n",
      "\n",
      "        [[0., 0.],\n",
      "         [0., 0.],\n",
      "         [0., 0.]]])\n"
     ]
    }
   ],
   "source": [
    "# create tensor of specific shape with all 0s\n",
    "t_zeros = torch.zeros((2, 3, 2))\n",
    "print(t_zeros.shape)\n",
    "print(t_zeros)"
   ]
  },
  {
   "cell_type": "code",
   "execution_count": 6,
   "metadata": {},
   "outputs": [
    {
     "name": "stdout",
     "output_type": "stream",
     "text": [
      "torch.Size([2, 2])\n",
      "tensor([[1., 1.],\n",
      "        [1., 1.]])\n"
     ]
    }
   ],
   "source": [
    "# create tensor of specific shape with all 1s\n",
    "t_ones = torch.ones((2, 2))\n",
    "print(t_ones.shape)\n",
    "print(t_ones)"
   ]
  },
  {
   "cell_type": "markdown",
   "metadata": {},
   "source": [
    "### Reshaping"
   ]
  },
  {
   "cell_type": "code",
   "execution_count": 7,
   "metadata": {},
   "outputs": [
    {
     "name": "stdout",
     "output_type": "stream",
     "text": [
      "torch.Size([3, 2, 2]) tensor([[[-0.0981,  1.6531],\n",
      "         [-0.6422,  0.5587]],\n",
      "\n",
      "        [[ 0.8772,  0.4926],\n",
      "         [-0.1100, -1.3531]],\n",
      "\n",
      "        [[-1.4381, -1.1567],\n",
      "         [ 0.3895,  1.1590]]])\n",
      "torch.Size([6, 2]) tensor([[-0.0981,  1.6531],\n",
      "        [-0.6422,  0.5587],\n",
      "        [ 0.8772,  0.4926],\n",
      "        [-0.1100, -1.3531],\n",
      "        [-1.4381, -1.1567],\n",
      "        [ 0.3895,  1.1590]])\n"
     ]
    }
   ],
   "source": [
    "# create tensors of specific shape with values from normal distribution with mean 0 and variance 1\n",
    "t_random = torch.randn((3, 2, 2))\n",
    "print(t_random.shape, t_random)\n",
    "\n",
    "t_random = t_random.view(6, 2)\n",
    "print(t_random.shape, t_random)"
   ]
  },
  {
   "cell_type": "markdown",
   "metadata": {},
   "source": [
    "### Tensor operations"
   ]
  },
  {
   "cell_type": "code",
   "execution_count": 8,
   "metadata": {},
   "outputs": [
    {
     "name": "stdout",
     "output_type": "stream",
     "text": [
      "tensor(0.3320)\n",
      "tensor([ 1.5551, -0.0834,  1.3698, -1.4631, -2.5948,  1.5485])\n",
      "tensor([-0.1703,  0.2256])\n"
     ]
    }
   ],
   "source": [
    "# There are many operations which can be executed on top of tensors\n",
    "# Either global ...\n",
    "t_sum = t_random.sum()\n",
    "print(t_sum)\n",
    "\n",
    "# or per dimension\n",
    "t_sum = t_random.sum(dim=-1)\n",
    "print(t_sum)\n",
    "\n",
    "t_mean = t_random.mean(dim=0)\n",
    "print(t_mean)"
   ]
  },
  {
   "cell_type": "code",
   "execution_count": 9,
   "metadata": {},
   "outputs": [
    {
     "name": "stdout",
     "output_type": "stream",
     "text": [
      "tensor([[1., 1.],\n",
      "        [1., 1.],\n",
      "        [1., 1.]])\n",
      "tensor([[4., 4.],\n",
      "        [4., 4.],\n",
      "        [4., 4.]])\n",
      "tensor([[ 0.5385,  0.0531],\n",
      "        [-0.6123,  0.3731],\n",
      "        [-0.6919,  0.2427]])\n",
      "tensor([[4.5385, 4.0531],\n",
      "        [3.3877, 4.3731],\n",
      "        [3.3081, 4.2427]])\n",
      "tensor([[0.3887, 0.5845],\n",
      "        [0.7201, 0.9441],\n",
      "        [0.3686, 2.1444]])\n",
      "tensor([[1.7641, 2.3689],\n",
      "        [2.4394, 4.1285],\n",
      "        [1.2193, 9.0980]])\n"
     ]
    }
   ],
   "source": [
    "# We can also just calculate with them\n",
    "t = torch.ones(3,2)\n",
    "print(t)\n",
    "\n",
    "# scalar multiplication\n",
    "t = t * 4\n",
    "print(t)\n",
    "\n",
    "t_random = torch.randn(3,2)\n",
    "print(t_random)\n",
    "\n",
    "# addition of tensors\n",
    "t = t + t_random\n",
    "print(t)\n",
    "\n",
    "t2 = torch.randn(3,2)\n",
    "print(t2)\n",
    "\n",
    "# element-wise multiplication of tensors (of same shape)\n",
    "t3 = t * t2\n",
    "print(t3)"
   ]
  },
  {
   "cell_type": "markdown",
   "metadata": {},
   "source": [
    "This covers some of the most important fundamentals of PyTorch. We strongly suggest you to have a look at the following resources of PyTorch, including detailed documentation as well as excellent introductory tutorials available about PyTorch.\n",
    "\n",
    "### Further Resources\n",
    "\n",
    "- **PyTorch Documentation** - https://pytorch.org/docs/stable/index.html\n",
    "\n",
    "    PyTorch has an excellent documentation of functions implemented within the library. We encourage you to read up on functionality and make yourself more familiar with the library.\n",
    "\n",
    "\n",
    "\n",
    "- **PyTorch Tutorials** - https://pytorch.org/tutorials/\n",
    "\n",
    "    PyTorch provides tutorials on their webpage which explain more features of the library in further detail.\n",
    "    \n",
    "    Examples for good introductory tutorials:\n",
    "    - Deep learning with PyTorch: A 60 Minute Blitz - https://pytorch.org/tutorials/beginner/deep_learning_60min_blitz.html\n",
    "    - Learning PyTorch with examples - https://pytorch.org/tutorials/beginner/pytorch_with_examples.html"
   ]
  },
  {
   "cell_type": "markdown",
   "metadata": {},
   "source": [
    "## Deep learning\n",
    "\n",
    "After talking about tensors, the objects underlying PyTorch, and some basic operations, we want to introduce you to the deep learning functionality of PyTorch.\n",
    "\n",
    "### Defining a model\n",
    "First, we have to **define a neural network** architecture. We can make use of a portfolio of pre-defined architectures or define our own operations and modules."
   ]
  },
  {
   "cell_type": "code",
   "execution_count": 10,
   "metadata": {},
   "outputs": [],
   "source": [
    "from torch import nn, Tensor\n",
    "from typing import Iterable\n",
    "\n",
    "\n",
    "class FCNetwork(nn.Module):\n",
    "    \"\"\"Fully PyTorch neural network class\n",
    "\n",
    "    :attr input_size (int): dimensionality of input tensors\n",
    "    :attr out_size (int): dimensionality of output tensors\n",
    "    :attr layers (torch.nn.Module): neural network as sequential network of multiple layers\n",
    "    \"\"\"\n",
    "\n",
    "    def __init__(self, dims: Iterable[int], output_activation: nn.Module = None):\n",
    "        \"\"\"Creates a network using ReLUs between layers and no activation at the end\n",
    "\n",
    "        :param dims (Iterable[int]): tuple in the form of (IN_SIZE, HIDDEN_SIZE, HIDDEN_SIZE2,\n",
    "            ..., OUT_SIZE) for dimensionalities of layers\n",
    "        :param output_activation (nn.Module): PyTorch activation function to use after last layer\n",
    "        \"\"\"\n",
    "        super().__init__()\n",
    "        self.input_size = dims[0]\n",
    "        self.out_size = dims[-1]\n",
    "        \n",
    "        mods = []\n",
    "        for i in range(len(dims) - 2):\n",
    "            mods.append(nn.Linear(dims[i], dims[i + 1]))\n",
    "            mods.append(nn.ReLU())\n",
    "\n",
    "        mods.append(nn.Linear(dims[-2], dims[-1]))\n",
    "        if output_activation:\n",
    "            mods.append(output_activation())\n",
    "        \n",
    "        self.layers = nn.Sequential(*mods)\n",
    "\n",
    "    def forward(self, x: Tensor) -> Tensor:\n",
    "        \"\"\"Computes a forward pass through the network\n",
    "\n",
    "        :param x (torch.Tensor): input tensor to feed into the network\n",
    "        :return (torch.Tensor): output computed by the network\n",
    "        \"\"\"\n",
    "        return self.layers(x)"
   ]
  },
  {
   "cell_type": "code",
   "execution_count": 11,
   "metadata": {},
   "outputs": [],
   "source": [
    "import matplotlib.pyplot as plt\n",
    "from torch import optim\n",
    "import torch.nn.functional as F\n",
    "from torch.nn.modules.activation import LogSoftmax"
   ]
  },
  {
   "cell_type": "markdown",
   "metadata": {},
   "source": [
    "### Hyperparameter configuration\n",
    "\n",
    "We define a configuration dictionary that will contain our hyperparameters"
   ]
  },
  {
   "cell_type": "code",
   "execution_count": 12,
   "metadata": {},
   "outputs": [],
   "source": [
    "config = {\n",
    "    \"hidden_dims\": (28*28, 128, 128, 10),\n",
    "    \"batch_size\": 64,\n",
    "    \"lr\": 3e-4,\n",
    "    \"log_interval\": 500,\n",
    "    \"epochs\": 20,\n",
    "}"
   ]
  },
  {
   "cell_type": "markdown",
   "metadata": {},
   "source": [
    "And a fully connected network with ReLU activations and a LogSoftmax output layer. You can experiment with changing the architecture above. Also, how would the loss function change if you had different output layers?"
   ]
  },
  {
   "cell_type": "code",
   "execution_count": 13,
   "metadata": {},
   "outputs": [],
   "source": [
    "net = FCNetwork(config[\"hidden_dims\"], output_activation=LogSoftmax)"
   ]
  },
  {
   "cell_type": "code",
   "execution_count": 14,
   "metadata": {},
   "outputs": [
    {
     "data": {
      "text/plain": [
       "FCNetwork(\n",
       "  (layers): Sequential(\n",
       "    (0): Linear(in_features=784, out_features=128, bias=True)\n",
       "    (1): ReLU()\n",
       "    (2): Linear(in_features=128, out_features=128, bias=True)\n",
       "    (3): ReLU()\n",
       "    (4): Linear(in_features=128, out_features=10, bias=True)\n",
       "    (5): LogSoftmax(dim=None)\n",
       "  )\n",
       ")"
      ]
     },
     "execution_count": 14,
     "metadata": {},
     "output_type": "execute_result"
    }
   ],
   "source": [
    "net.train()"
   ]
  },
  {
   "cell_type": "markdown",
   "metadata": {},
   "source": [
    "### Loading MNIST dataset"
   ]
  },
  {
   "cell_type": "code",
   "execution_count": 15,
   "metadata": {},
   "outputs": [],
   "source": [
    "# Boilerplate that loads the MNIST dataset\n",
    "\n",
    "train_loader = torch.utils.data.DataLoader(\n",
    "    torchvision.datasets.MNIST(\n",
    "      '~/files/',\n",
    "      train=True,\n",
    "      download=True,\n",
    "      transform=torchvision.transforms.Compose([\n",
    "          torchvision.transforms.ToTensor(),\n",
    "          torchvision.transforms.Normalize((0.1307,), (0.3081,)),\n",
    "          torchvision.transforms.Lambda(lambda x: torch.flatten(x))\n",
    "    ])),\n",
    "    batch_size=config[\"batch_size\"], shuffle=True\n",
    ")\n",
    "\n",
    "test_loader = torch.utils.data.DataLoader(\n",
    "    torchvision.datasets.MNIST('~/files/', train=False, download=True,\n",
    "        transform=torchvision.transforms.Compose([\n",
    "            torchvision.transforms.ToTensor(),\n",
    "            torchvision.transforms.Normalize((0.1307,), (0.3081,)),\n",
    "            torchvision.transforms.Lambda(lambda x: torch.flatten(x))\n",
    "    ])),\n",
    "    batch_size=config[\"batch_size\"], shuffle=True\n",
    ")"
   ]
  },
  {
   "cell_type": "code",
   "execution_count": 16,
   "metadata": {},
   "outputs": [
    {
     "data": {
      "image/png": "[encoded data removed]",
      "text/plain": [
       "<Figure size 640x480 with 4 Axes>"
      ]
     },
     "metadata": {},
     "output_type": "display_data"
    }
   ],
   "source": [
    "# get some examples from the test set\n",
    "examples = enumerate(test_loader)\n",
    "batch_idx, (x, y) = next(examples)\n",
    "\n",
    "# and plot them along with their labels\n",
    "fig = plt.figure()\n",
    "for i in range(4):\n",
    "    plt.subplot(1,4,i+1)\n",
    "    plt.imshow(x[i].reshape(28, 28), cmap='gray')\n",
    "    plt.title(\"Label: {}\".format(y[i]))\n",
    "    plt.axis(\"off\")\n"
   ]
  },
  {
   "cell_type": "code",
   "execution_count": 17,
   "metadata": {},
   "outputs": [],
   "source": [
    "# define an optimiser. We are using Adam and we supply it with the parameters of the fully connected network we created\n",
    "optimizer = optim.Adam(net.parameters(), lr=config[\"lr\"])"
   ]
  },
  {
   "cell_type": "markdown",
   "metadata": {},
   "source": [
    "### Training\n",
    "\n",
    "We are now ready to train our model. We will be using \"nll_loss\" which stands for Negative Log Likelihood. The \"epochs\" are how many times we will iterate over all our training dataset, but the batch_size defines how many samples will pass at once through our network. We print the loss at each epoch - but should we log more things too? How can we see if gradients pass correctly through our network?"
   ]
  },
  {
   "cell_type": "code",
   "execution_count": 18,
   "metadata": {},
   "outputs": [
    {
     "name": "stderr",
     "output_type": "stream",
     "text": [
      "/home/francelico/miniconda3/envs/sb3/lib/python3.10/site-packages/torch/nn/modules/container.py:141: UserWarning: Implicit dimension choice for log_softmax has been deprecated. Change the call to include dim=X as an argument.\n",
      "  input = module(input)\n"
     ]
    },
    {
     "name": "stdout",
     "output_type": "stream",
     "text": [
      "Train Epoch: 0, loss: 0.37144312262535095\n",
      "Train Epoch: 1, loss: 0.15935790538787842\n",
      "Train Epoch: 2, loss: 0.11021707952022552\n",
      "Train Epoch: 3, loss: 0.08408975601196289\n",
      "Train Epoch: 4, loss: 0.06891424208879471\n",
      "Train Epoch: 5, loss: 0.055737532675266266\n",
      "Train Epoch: 6, loss: 0.04558186233043671\n",
      "Train Epoch: 7, loss: 0.038674257695674896\n",
      "Train Epoch: 8, loss: 0.032121896743774414\n",
      "Train Epoch: 9, loss: 0.0270842257887125\n",
      "Train Epoch: 10, loss: 0.023413997143507004\n",
      "Train Epoch: 11, loss: 0.01899632252752781\n",
      "Train Epoch: 12, loss: 0.01673775725066662\n",
      "Train Epoch: 13, loss: 0.01426181010901928\n",
      "Train Epoch: 14, loss: 0.012904437258839607\n",
      "Train Epoch: 15, loss: 0.01063623372465372\n",
      "Train Epoch: 16, loss: 0.009905903600156307\n",
      "Train Epoch: 17, loss: 0.008941451087594032\n",
      "Train Epoch: 18, loss: 0.00798572413623333\n",
      "Train Epoch: 19, loss: 0.007197989150881767\n"
     ]
    }
   ],
   "source": [
    "log_interval = config[\"log_interval\"]\n",
    "train_losses = []\n",
    "\n",
    "for epoch in range(config[\"epochs\"]):\n",
    "    losses_epoch = []\n",
    "    for batch_idx, (x, y) in enumerate(train_loader):\n",
    "        optimizer.zero_grad()\n",
    "        out = net(x)\n",
    "        loss = F.nll_loss(out, y)\n",
    "        losses_epoch.append(loss)\n",
    "        loss.backward()\n",
    "        optimizer.step()\n",
    "    loss_mean = torch.mean(torch.Tensor(losses_epoch))\n",
    "    print(f\"Train Epoch: {epoch}, loss: {loss_mean}\")\n",
    "    train_losses.append(loss.item())\n",
    "        "
   ]
  },
  {
   "cell_type": "markdown",
   "metadata": {},
   "source": [
    "After training, we can see what our network learned. We do a forward pass of some examples from the test set, and now we display the predicted value."
   ]
  },
  {
   "cell_type": "code",
   "execution_count": 19,
   "metadata": {},
   "outputs": [
    {
     "data": {
      "image/png": "[encoded data removed]",
      "text/plain": [
       "<Figure size 640x480 with 4 Axes>"
      ]
     },
     "metadata": {},
     "output_type": "display_data"
    }
   ],
   "source": [
    "examples = enumerate(test_loader)\n",
    "batch_idx, (x, y) = next(examples)\n",
    "\n",
    "fig = plt.figure()\n",
    "for i in range(4):\n",
    "    plt.subplot(1,4,i+1)\n",
    "    y = torch.argmax(net(x[i]))\n",
    "    plt.imshow(x[i].reshape(28, 28), cmap='gray')\n",
    "    plt.title(\"Prediction: {}\".format(y))\n",
    "    plt.axis(\"off\")"
   ]
  },
  {
   "cell_type": "markdown",
   "metadata": {},
   "source": [
    "### Measure accuracy\n",
    "\n",
    "We can also measure the accuracy of the whole test set"
   ]
  },
  {
   "cell_type": "code",
   "execution_count": 20,
   "metadata": {},
   "outputs": [
    {
     "name": "stdout",
     "output_type": "stream",
     "text": [
      "tensor(0.9792, dtype=torch.float64)\n"
     ]
    }
   ],
   "source": [
    "# Measuring accuracy on the test set\n",
    "test_accuracy = 0\n",
    "for batch_id, (x, y) in enumerate(test_loader):\n",
    "    y_pred = torch.argmax(net(x), dim=-1)\n",
    "    acc = (y_pred == y).double()\n",
    "    test_accuracy += torch.sum(acc) / len(test_loader.dataset)\n",
    "print(test_accuracy)"
   ]
  }
 ],
 "metadata": {
  "kernelspec": {
   "display_name": "sb3",
   "language": "python",
   "name": "python3"
  },
  "language_info": {
   "codemirror_mode": {
    "name": "ipython",
    "version": 3
   },
   "file_extension": ".py",
   "mimetype": "text/x-python",
   "name": "python",
   "nbconvert_exporter": "python",
   "pygments_lexer": "ipython3",
   "version": "3.10.5"
  },
  "vscode": {
   "interpreter": {
    "hash": "e514887b9b96f70572a73cf62746e342032877885c78cb6abc1e2e4a3e4bb8da"
   }
  }
 },
 "nbformat": 4,
 "nbformat_minor": 4
}
